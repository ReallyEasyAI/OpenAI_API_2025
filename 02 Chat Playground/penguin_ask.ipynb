{
 "cells": [
  {
   "cell_type": "code",
   "execution_count": 17,
   "metadata": {},
   "outputs": [
    {
     "name": "stdout",
     "output_type": "stream",
     "text": [
      "Penguins are a group of aquatic, flightless birds found primarily in the Southern Hemisphere, especially in Antarctica. They are known for their distinctive black and white plumage, which resembles a tuxedo, and their upright posture. Penguins are highly adapted for life in the water, with their wings having evolved into flippers that make them excellent swimmers. Their diet mainly consists of fish, squid, and krill, which they catch while swimming underwater.\n",
      "\n",
      "There are several species of penguins, with varying sizes and habitats. Despite popular belief, not all penguins live in cold climates; some species are found on the coasts of South America, Africa, Australia, and New Zealand. Penguins are social birds that often form large colonies and have complex behaviors related to breeding, feeding, and communication.\n"
     ]
    }
   ],
   "source": [
    "from openai import OpenAI\n",
    "client = OpenAI()\n",
    "\n",
    "response = client.chat.completions.create(\n",
    "  model=\"gpt-4o\",\n",
    "  messages=[\n",
    "    {\n",
    "      \"role\": \"user\",\n",
    "      \"content\": [\n",
    "        {\n",
    "          \"type\": \"text\",\n",
    "          \"text\": \"What is a penguin?\"\n",
    "        }\n",
    "      ]\n",
    "    }\n",
    "  ],\n",
    "  response_format={\n",
    "    \"type\": \"text\"\n",
    "  },\n",
    "  temperature=1,\n",
    "  max_completion_tokens=2048,\n",
    "  top_p=1,\n",
    "  frequency_penalty=0,\n",
    "  presence_penalty=0\n",
    ")\n",
    "\n",
    "print(response.choices[0].message.content)"
   ]
  }
 ],
 "metadata": {
  "kernelspec": {
   "display_name": "openai_api_2025",
   "language": "python",
   "name": "python3"
  },
  "language_info": {
   "codemirror_mode": {
    "name": "ipython",
    "version": 3
   },
   "file_extension": ".py",
   "mimetype": "text/x-python",
   "name": "python",
   "nbconvert_exporter": "python",
   "pygments_lexer": "ipython3",
   "version": "3.13.2"
  }
 },
 "nbformat": 4,
 "nbformat_minor": 2
}
